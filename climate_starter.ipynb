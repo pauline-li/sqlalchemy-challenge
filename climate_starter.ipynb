{
 "cells": [
  {
   "cell_type": "code",
   "execution_count": 1,
   "metadata": {},
   "outputs": [],
   "source": [
    "%matplotlib inline\n",
    "from matplotlib import style\n",
    "style.use('fivethirtyeight')\n",
    "import matplotlib.pyplot as plt\n",
    "from sqlalchemy import distinct"
   ]
  },
  {
   "cell_type": "code",
   "execution_count": 2,
   "metadata": {},
   "outputs": [],
   "source": [
    "import numpy as np\n",
    "import pandas as pd"
   ]
  },
  {
   "cell_type": "code",
   "execution_count": 3,
   "metadata": {},
   "outputs": [],
   "source": [
    "import datetime as dt\n",
    "from datetime import datetime\n",
    "from dateutil.relativedelta import relativedelta"
   ]
  },
  {
   "cell_type": "markdown",
   "metadata": {},
   "source": [
    "# Reflect Tables into SQLAlchemy ORM"
   ]
  },
  {
   "cell_type": "code",
   "execution_count": 4,
   "metadata": {},
   "outputs": [],
   "source": [
    "# Python SQL toolkit and Object Relational Mapper\n",
    "import sqlalchemy\n",
    "from sqlalchemy.ext.automap import automap_base\n",
    "from sqlalchemy.orm import Session\n",
    "from sqlalchemy import create_engine, func"
   ]
  },
  {
   "cell_type": "code",
   "execution_count": 5,
   "metadata": {},
   "outputs": [],
   "source": [
    "engine = create_engine(\"sqlite:///Resources/hawaii.sqlite\")"
   ]
  },
  {
   "cell_type": "code",
   "execution_count": 6,
   "metadata": {},
   "outputs": [],
   "source": [
    "# ==== To check what table is available ===\n",
    "# from sqlalchemy import inspect\n"
   ]
  },
  {
   "cell_type": "code",
   "execution_count": 7,
   "metadata": {},
   "outputs": [],
   "source": [
    "# reflect an existing database into a new model\n",
    "Base = automap_base()\n",
    "\n",
    "# reflect the tables\n",
    "Base.prepare(engine, reflect=True)\n",
    "\n"
   ]
  },
  {
   "cell_type": "code",
   "execution_count": 8,
   "metadata": {},
   "outputs": [
    {
     "data": {
      "text/plain": [
       "[(1, 'USC00519397', 'WAIKIKI 717.2, HI US', 21.2716, -157.8168, 3.0),\n",
       " (2, 'USC00513117', 'KANEOHE 838.1, HI US', 21.4234, -157.8015, 14.6),\n",
       " (3, 'USC00514830', 'KUALOA RANCH HEADQUARTERS 886.9, HI US', 21.5213, -157.8374, 7.0),\n",
       " (4, 'USC00517948', 'PEARL CITY, HI US', 21.3934, -157.9751, 11.9),\n",
       " (5, 'USC00518838', 'UPPER WAHIAWA 874.3, HI US', 21.4992, -158.0111, 306.6)]"
      ]
     },
     "execution_count": 8,
     "metadata": {},
     "output_type": "execute_result"
    }
   ],
   "source": [
    "# ================== My Notes===============\n",
    "engine.execute('SELECT * FROM measurement LIMIT 5').fetchall()\n",
    "\n",
    "engine.execute('SELECT * FROM station LIMIT 5').fetchall()\n",
    "\n",
    "\n",
    "\n",
    "# ***session = Session(engine)\n",
    "# **** engine.execute('SELECT * FROM measurement LIMIT 5').fetchall()\n"
   ]
  },
  {
   "cell_type": "code",
   "execution_count": 9,
   "metadata": {},
   "outputs": [
    {
     "data": {
      "text/plain": [
       "['measurement', 'station']"
      ]
     },
     "execution_count": 9,
     "metadata": {},
     "output_type": "execute_result"
    }
   ],
   "source": [
    "# We can view all of the classes that automap found\n",
    "Base.classes.keys()"
   ]
  },
  {
   "cell_type": "code",
   "execution_count": 10,
   "metadata": {},
   "outputs": [],
   "source": [
    "# Save references to each table\n",
    "# ****Saving reference to classes\n",
    "Measurement = Base.classes.measurement\n",
    "Station = Base.classes.station"
   ]
  },
  {
   "cell_type": "code",
   "execution_count": 11,
   "metadata": {},
   "outputs": [],
   "source": [
    "# Create our session (link) from Python to the DB\n",
    "session = Session(engine)\n",
    "\n",
    "# inspector = inspect(engine)\n",
    "# inspector.get_table_names()"
   ]
  },
  {
   "cell_type": "code",
   "execution_count": 12,
   "metadata": {},
   "outputs": [
    {
     "name": "stdout",
     "output_type": "stream",
     "text": [
      "id INTEGER\n",
      "station TEXT\n",
      "date TEXT\n",
      "prcp FLOAT\n",
      "tobs FLOAT\n"
     ]
    }
   ],
   "source": [
    "# from sqlalchemy import MetaData\n",
    "# metadata=MetaData()\n",
    "# metadata.reflect(engine, only=['measurement'])\n",
    "\n",
    "# Get column names\n",
    "from sqlalchemy import inspect\n",
    "inspector = inspect(engine)\n",
    "\n",
    "# column name for measurement\n",
    "columns = inspector.get_columns('measurement') # add table name here\n",
    "for c in columns:\n",
    "    print(c['name'], c[\"type\"])"
   ]
  },
  {
   "cell_type": "code",
   "execution_count": 13,
   "metadata": {},
   "outputs": [
    {
     "name": "stdout",
     "output_type": "stream",
     "text": [
      "id INTEGER\n",
      "station TEXT\n",
      "name TEXT\n",
      "latitude FLOAT\n",
      "longitude FLOAT\n",
      "elevation FLOAT\n"
     ]
    }
   ],
   "source": [
    "# column name for station\n",
    "columns = inspector.get_columns('station') # add table name here\n",
    "for c in columns:\n",
    "    print(c['name'], c[\"type\"])"
   ]
  },
  {
   "cell_type": "markdown",
   "metadata": {},
   "source": [
    "# Exploratory Climate Analysis"
   ]
  },
  {
   "cell_type": "code",
   "execution_count": 14,
   "metadata": {},
   "outputs": [
    {
     "name": "stdout",
     "output_type": "stream",
     "text": [
      "2017-08-23 (last day in dataset)\n",
      "2016-08-23\n"
     ]
    }
   ],
   "source": [
    "# Get last day in dataset and prior year date\n",
    "\n",
    "Max_Date = session.query(Measurement.date).order_by(Measurement.date.desc()).first()\n",
    "Max_Date # ('2017-08-23')\n",
    "\n",
    "# Retrieve max date\n",
    "End_Date = Max_Date[0]\n",
    "print(End_Date + ' (last day in dataset)' )\n",
    "\n",
    "# Calculate the date 1 year ago from the last data point in the database\n",
    "Twelve_Months = dt.datetime.strptime(End_Date, '%Y-%m-%d')  - dt.timedelta(days=365) # Go back 365 days on Max_Date 2017-08-23\n",
    "Begin_Date  = Twelve_Months.strftime('%Y-%m-%d')\n",
    "print(Begin_Date)\n"
   ]
  },
  {
   "cell_type": "code",
   "execution_count": 70,
   "metadata": {},
   "outputs": [
    {
     "data": {
      "text/html": [
       "<div>\n",
       "<style scoped>\n",
       "    .dataframe tbody tr th:only-of-type {\n",
       "        vertical-align: middle;\n",
       "    }\n",
       "\n",
       "    .dataframe tbody tr th {\n",
       "        vertical-align: top;\n",
       "    }\n",
       "\n",
       "    .dataframe thead th {\n",
       "        text-align: right;\n",
       "    }\n",
       "</style>\n",
       "<table border=\"1\" class=\"dataframe\">\n",
       "  <thead>\n",
       "    <tr style=\"text-align: right;\">\n",
       "      <th></th>\n",
       "      <th>Precipitation</th>\n",
       "    </tr>\n",
       "    <tr>\n",
       "      <th>Date</th>\n",
       "      <th></th>\n",
       "    </tr>\n",
       "  </thead>\n",
       "  <tbody>\n",
       "    <tr>\n",
       "      <td>2016-08-23</td>\n",
       "      <td>0.70</td>\n",
       "    </tr>\n",
       "    <tr>\n",
       "      <td>2016-08-23</td>\n",
       "      <td>0.00</td>\n",
       "    </tr>\n",
       "    <tr>\n",
       "      <td>2016-08-23</td>\n",
       "      <td>0.15</td>\n",
       "    </tr>\n",
       "    <tr>\n",
       "      <td>2016-08-23</td>\n",
       "      <td>1.79</td>\n",
       "    </tr>\n",
       "    <tr>\n",
       "      <td>2016-08-23</td>\n",
       "      <td>0.00</td>\n",
       "    </tr>\n",
       "  </tbody>\n",
       "</table>\n",
       "</div>"
      ],
      "text/plain": [
       "            Precipitation\n",
       "Date                     \n",
       "2016-08-23           0.70\n",
       "2016-08-23           0.00\n",
       "2016-08-23           0.15\n",
       "2016-08-23           1.79\n",
       "2016-08-23           0.00"
      ]
     },
     "execution_count": 70,
     "metadata": {},
     "output_type": "execute_result"
    }
   ],
   "source": [
    "# Design a query to retrieve the last 12 months of precipitation data and plot the results\n",
    "\n",
    "# Perform a query to retrieve the data and precipitation scores\n",
    "#-- Query to retrieve precipitaion data between 2016-08-23 and 2017-08-23 \n",
    "rollback12_precip = session.query(Measurement.prcp, Measurement.date).filter(Measurement.date >= Begin_Date)\\\n",
    "                                    .filter(Measurement.date <= End_Date)\\\n",
    "                                    .order_by(Measurement.date.desc()).all()\n",
    "\n",
    "\n",
    "# Save the query results as a Pandas DataFrame and set the index to the date column\n",
    "precip_df = pd.DataFrame(rollback12_precip)\n",
    "precip_df.rename(columns={'prcp': 'Precipitation', 'date': 'Date'}, inplace=True) # Rename column\n",
    "# Data Cleansing: Replace NaN with 0.00 value on Precipitation column\n",
    "precip_df['Precipitation'] = precip_df['Precipitation'].replace(np.nan, 0)\n",
    "\n",
    "# set Date as index\n",
    "precip_df.set_index('Date', inplace=True)\n",
    "\n",
    "# Sort the dataframe by date\n",
    "precip_df.sort_values(by=['Date'], inplace=True, ascending=True)\n",
    "precip_df.head()"
   ]
  },
  {
   "cell_type": "code",
   "execution_count": 71,
   "metadata": {},
   "outputs": [
    {
     "data": {
      "image/png": "[encoded data removed]",
      "text/plain": [
       "<Figure size 792x432 with 1 Axes>"
      ]
     },
     "metadata": {
      "needs_background": "light"
     },
     "output_type": "display_data"
    }
   ],
   "source": [
    "# Use Pandas Plotting with Matplotlib to plot the data\n",
    "precip_df.plot(rot=45, figsize=(11,6))\n",
    "plt.title('Last 12 Months Precipitation', size=16) # Format title \n",
    "plt.xlabel(xlabel='Date', size=14) # Format x label\n",
    "plt.ylabel(ylabel='Inches', size=14) # Format y label\n",
    "plt.tight_layout()\n",
    "plt.savefig(\"../sqlalchemy-challenge/Last 12 Months Precipitaion.png\") \n",
    "plt.show()"
   ]
  },
  {
   "cell_type": "code",
   "execution_count": 72,
   "metadata": {},
   "outputs": [
    {
     "data": {
      "text/html": [
       "<div>\n",
       "<style scoped>\n",
       "    .dataframe tbody tr th:only-of-type {\n",
       "        vertical-align: middle;\n",
       "    }\n",
       "\n",
       "    .dataframe tbody tr th {\n",
       "        vertical-align: top;\n",
       "    }\n",
       "\n",
       "    .dataframe thead th {\n",
       "        text-align: right;\n",
       "    }\n",
       "</style>\n",
       "<table border=\"1\" class=\"dataframe\">\n",
       "  <thead>\n",
       "    <tr style=\"text-align: right;\">\n",
       "      <th></th>\n",
       "      <th>Precipitation</th>\n",
       "    </tr>\n",
       "  </thead>\n",
       "  <tbody>\n",
       "    <tr>\n",
       "      <td>count</td>\n",
       "      <td>2230.000000</td>\n",
       "    </tr>\n",
       "    <tr>\n",
       "      <td>mean</td>\n",
       "      <td>0.160664</td>\n",
       "    </tr>\n",
       "    <tr>\n",
       "      <td>std</td>\n",
       "      <td>0.442067</td>\n",
       "    </tr>\n",
       "    <tr>\n",
       "      <td>min</td>\n",
       "      <td>0.000000</td>\n",
       "    </tr>\n",
       "    <tr>\n",
       "      <td>25%</td>\n",
       "      <td>0.000000</td>\n",
       "    </tr>\n",
       "    <tr>\n",
       "      <td>50%</td>\n",
       "      <td>0.010000</td>\n",
       "    </tr>\n",
       "    <tr>\n",
       "      <td>75%</td>\n",
       "      <td>0.110000</td>\n",
       "    </tr>\n",
       "    <tr>\n",
       "      <td>max</td>\n",
       "      <td>6.700000</td>\n",
       "    </tr>\n",
       "  </tbody>\n",
       "</table>\n",
       "</div>"
      ],
      "text/plain": [
       "       Precipitation\n",
       "count    2230.000000\n",
       "mean        0.160664\n",
       "std         0.442067\n",
       "min         0.000000\n",
       "25%         0.000000\n",
       "50%         0.010000\n",
       "75%         0.110000\n",
       "max         6.700000"
      ]
     },
     "execution_count": 72,
     "metadata": {},
     "output_type": "execute_result"
    }
   ],
   "source": [
    "# Use Pandas to calculate the summary statistics for the precipitation data\n",
    "precip_df.describe()"
   ]
  },
  {
   "cell_type": "code",
   "execution_count": 73,
   "metadata": {},
   "outputs": [
    {
     "name": "stdout",
     "output_type": "stream",
     "text": [
      "The number of station available: 9\n"
     ]
    }
   ],
   "source": [
    "# Design a query to show how many stations are available in this dataset?\n",
    "#from sqlalchemy import distinct\n",
    " \n",
    "# count distinct \"station\" values\n",
    "nbr_of_station =session.query(func.count(distinct(Measurement.station))).all()\n",
    "\n",
    "nbr_of_station\n",
    "print(f'The number of station available: {nbr_of_station[0][0]}')"
   ]
  },
  {
   "cell_type": "code",
   "execution_count": 74,
   "metadata": {},
   "outputs": [
    {
     "data": {
      "text/html": [
       "<div>\n",
       "<style scoped>\n",
       "    .dataframe tbody tr th:only-of-type {\n",
       "        vertical-align: middle;\n",
       "    }\n",
       "\n",
       "    .dataframe tbody tr th {\n",
       "        vertical-align: top;\n",
       "    }\n",
       "\n",
       "    .dataframe thead th {\n",
       "        text-align: right;\n",
       "    }\n",
       "</style>\n",
       "<table border=\"1\" class=\"dataframe\">\n",
       "  <thead>\n",
       "    <tr style=\"text-align: right;\">\n",
       "      <th></th>\n",
       "      <th>Station Nbr</th>\n",
       "      <th>Count</th>\n",
       "    </tr>\n",
       "  </thead>\n",
       "  <tbody>\n",
       "    <tr>\n",
       "      <td>0</td>\n",
       "      <td>USC00519281</td>\n",
       "      <td>2772</td>\n",
       "    </tr>\n",
       "    <tr>\n",
       "      <td>1</td>\n",
       "      <td>USC00519397</td>\n",
       "      <td>2724</td>\n",
       "    </tr>\n",
       "    <tr>\n",
       "      <td>2</td>\n",
       "      <td>USC00513117</td>\n",
       "      <td>2709</td>\n",
       "    </tr>\n",
       "    <tr>\n",
       "      <td>3</td>\n",
       "      <td>USC00519523</td>\n",
       "      <td>2669</td>\n",
       "    </tr>\n",
       "    <tr>\n",
       "      <td>4</td>\n",
       "      <td>USC00516128</td>\n",
       "      <td>2612</td>\n",
       "    </tr>\n",
       "    <tr>\n",
       "      <td>5</td>\n",
       "      <td>USC00514830</td>\n",
       "      <td>2202</td>\n",
       "    </tr>\n",
       "    <tr>\n",
       "      <td>6</td>\n",
       "      <td>USC00511918</td>\n",
       "      <td>1979</td>\n",
       "    </tr>\n",
       "    <tr>\n",
       "      <td>7</td>\n",
       "      <td>USC00517948</td>\n",
       "      <td>1372</td>\n",
       "    </tr>\n",
       "    <tr>\n",
       "      <td>8</td>\n",
       "      <td>USC00518838</td>\n",
       "      <td>511</td>\n",
       "    </tr>\n",
       "  </tbody>\n",
       "</table>\n",
       "</div>"
      ],
      "text/plain": [
       "   Station Nbr  Count\n",
       "0  USC00519281   2772\n",
       "1  USC00519397   2724\n",
       "2  USC00513117   2709\n",
       "3  USC00519523   2669\n",
       "4  USC00516128   2612\n",
       "5  USC00514830   2202\n",
       "6  USC00511918   1979\n",
       "7  USC00517948   1372\n",
       "8  USC00518838    511"
      ]
     },
     "execution_count": 74,
     "metadata": {},
     "output_type": "execute_result"
    }
   ],
   "source": [
    "# What are the most active stations? (i.e. what stations have the most rows)?\n",
    "# List the stations and the counts in descending order.\n",
    "nbr_of_station_nbr=session.query(Measurement.station,func.count(Measurement.station)).\\\n",
    "                    group_by(Measurement.station).\\\n",
    "                    order_by(func.count(Measurement.station).desc()).all()\n",
    "\n",
    "\n",
    "\n",
    "nbr_of_station_df = pd.DataFrame(nbr_of_station_nbr,columns=['Station Nbr','Count'])\n",
    "nbr_of_station_df\n"
   ]
  },
  {
   "cell_type": "code",
   "execution_count": 75,
   "metadata": {},
   "outputs": [
    {
     "name": "stdout",
     "output_type": "stream",
     "text": [
      "Station USC00519281 Lowest Temperature: 54.0\n",
      "Station USC00519281 Highest Temperature: 85.0\n",
      "Station USC00519281 Average Temperature: 71.66\n"
     ]
    }
   ],
   "source": [
    "# Using the station id from the previous query, calculate the lowest temperature recorded, \n",
    "# highest temperature recorded, and average temperature of the most active station?\n",
    "\n",
    "# Query min temp\n",
    "min_temp = session.query(func.min(Measurement.tobs)).\\\n",
    "    filter(Measurement.station == \"USC00519281\").all()\n",
    "\n",
    "# Query max temp\n",
    "max_temp = session.query(func.max(Measurement.tobs)).\\\n",
    "    filter(Measurement.station == \"USC00519281\").all()\n",
    "\n",
    "# Query average temp\n",
    "avg_temp = session.query(func.avg(Measurement.tobs)).\\\n",
    "    filter(Measurement.station == \"USC00519281\").all()\n",
    "\n",
    "# print results\n",
    "print(f'Station USC00519281 Lowest Temperature: {min_temp[0][0]}') \n",
    "print(f'Station USC00519281 Highest Temperature: {max_temp[0][0]}')\n",
    "print(f'Station USC00519281 Average Temperature: {round(avg_temp[0][0],2)}')"
   ]
  },
  {
   "cell_type": "code",
   "execution_count": 76,
   "metadata": {},
   "outputs": [
    {
     "data": {
      "text/plain": [
       "'USC00519281'"
      ]
     },
     "execution_count": 76,
     "metadata": {},
     "output_type": "execute_result"
    }
   ],
   "source": [
    "# Choose the station with the highest number of temperature observations.\n",
    "\n",
    "# Retrieve highest number of temp obersvations\n",
    "highest_observation_station=session.query(Measurement.station,func.count(Measurement.tobs)).\\\n",
    "                    group_by(Measurement.station).\\\n",
    "                    order_by(func.count(Measurement.tobs).desc()).first()\n",
    "\n",
    "\n",
    "high_obs_station = highest_observation_station[0]\n",
    "high_obs_station\n"
   ]
  },
  {
   "cell_type": "code",
   "execution_count": 77,
   "metadata": {},
   "outputs": [
    {
     "data": {
      "image/png": "[encoded data removed]",
      "text/plain": [
       "<Figure size 432x288 with 1 Axes>"
      ]
     },
     "metadata": {
      "needs_background": "light"
     },
     "output_type": "display_data"
    }
   ],
   "source": [
    "# Query the last 12 months of temperature observation data for this station and plot the results as a histogram\n",
    "\n",
    "# Last 12 months and temperature on the highest number of temp obseration station 'USC00519281'\n",
    "highest_obser_station =session.query(Measurement.tobs, Measurement.date)\\\n",
    "                    .filter(Measurement.date >= Begin_Date)\\\n",
    "                    .filter(Measurement.station == high_obs_station)\\\n",
    "                    .order_by(Measurement.date.asc()).all()\n",
    "\n",
    "\n",
    "highest_obser_station\n",
    "                 \n",
    "# Add results to a dataframe    \n",
    "high_station_df = pd.DataFrame(highest_obser_station)\n",
    "high_station_df\n",
    "   \n",
    "# Plot histogram    \n",
    "salary_hist=high_station_df['tobs'].hist(bins=12) #,figsize=(11,6)\n",
    "salary_hist.set_xlabel('Temperature',size='12')  # format x label\n",
    "salary_hist.set_ylabel('Frequency',size='12') # format y label\n",
    "salary_hist.set_title('Station ' + high_obs_station + ' \\nTwelve Months Observation', size='12') #set title\n",
    "plt.legend(['tobs'],loc='upper right') # Format legend\n",
    "\n",
    "# Save chart png \n",
    "plt.savefig(\"../sqlalchemy-challenge/Last 12 Months USC00519281.png\") \n",
    "plt.show()\n"
   ]
  },
  {
   "cell_type": "markdown",
   "metadata": {},
   "source": [
    "## Bonus Challenge Assignment"
   ]
  },
  {
   "cell_type": "code",
   "execution_count": 78,
   "metadata": {},
   "outputs": [
    {
     "name": "stdout",
     "output_type": "stream",
     "text": [
      "[(62.0, 69.57, 74.0)]\n"
     ]
    }
   ],
   "source": [
    "# This function called `calc_temps` will accept start date and end date in the format '%Y-%m-%d' \n",
    "# and return the minimum, average, and maximum temperatures for that range of dates\n",
    "def calc_temps(start_date, end_date):\n",
    "    \"\"\"TMIN, TAVG, and TMAX for a list of dates.\n",
    "    \n",
    "    Args:\n",
    "        start_date (string): A date string in the format %Y-%m-%d\n",
    "        end_date (string): A date string in the format %Y-%m-%d\n",
    "        \n",
    "    Returns:\n",
    "        TMIN, TAVE, and TMAX\n",
    "    \"\"\"\n",
    "       \n",
    "    return session.query(func.min(Measurement.tobs), func.round(func.avg(Measurement.tobs),2), func.max(Measurement.tobs)).\\\n",
    "        filter(Measurement.date >= start_date).filter(Measurement.date <= end_date).all()\n",
    "\n",
    "# function usage example\n",
    "print(calc_temps('2012-02-28', '2012-03-05'))"
   ]
  },
  {
   "cell_type": "code",
   "execution_count": 79,
   "metadata": {},
   "outputs": [
    {
     "name": "stdout",
     "output_type": "stream",
     "text": [
      "Please input your trip start date YYYY-MM-DD: 2017-05-01\n",
      "Please input your trip end date YYYY-MM-DD: 2017-05-15\n",
      "=============================================================\n",
      "Previous Year Start Date: 2016-05-01\n",
      "Previous Year End Date: 2016-05-15\n"
     ]
    },
    {
     "data": {
      "text/html": [
       "<div>\n",
       "<style scoped>\n",
       "    .dataframe tbody tr th:only-of-type {\n",
       "        vertical-align: middle;\n",
       "    }\n",
       "\n",
       "    .dataframe tbody tr th {\n",
       "        vertical-align: top;\n",
       "    }\n",
       "\n",
       "    .dataframe thead th {\n",
       "        text-align: right;\n",
       "    }\n",
       "</style>\n",
       "<table border=\"1\" class=\"dataframe\">\n",
       "  <thead>\n",
       "    <tr style=\"text-align: right;\">\n",
       "      <th></th>\n",
       "      <th>Min</th>\n",
       "      <th>Avg</th>\n",
       "      <th>Max</th>\n",
       "    </tr>\n",
       "  </thead>\n",
       "  <tbody>\n",
       "    <tr>\n",
       "      <td>0</td>\n",
       "      <td>65.0</td>\n",
       "      <td>73.09</td>\n",
       "      <td>79.0</td>\n",
       "    </tr>\n",
       "  </tbody>\n",
       "</table>\n",
       "</div>"
      ],
      "text/plain": [
       "    Min    Avg   Max\n",
       "0  65.0  73.09  79.0"
      ]
     },
     "execution_count": 79,
     "metadata": {},
     "output_type": "execute_result"
    }
   ],
   "source": [
    "# Use your previous function `calc_temps` to calculate the tmin, tavg, and tmax \n",
    "# for your trip using the previous year's data for those same dates.\n",
    "#=============================================\n",
    "# My trip date range is 2017-05-01, 2017-05-08\n",
    "#=============================================\n",
    "\n",
    "# Prompt to enter trip start and end date\n",
    "my_trip_start_date = input('Please input your trip start date YYYY-MM-DD: ')\n",
    "my_trip_end_date = input('Please input your trip end date YYYY-MM-DD: ')\n",
    "\n",
    "# date string format\n",
    "format_string = '%Y-%m-%d'\n",
    "\n",
    "# Take input start date and roll back one year\n",
    "datetime_start_object = datetime.strptime(my_trip_start_date, format_string).date()\n",
    "prev_yr_start_date = datetime_start_object + relativedelta(years=-1)\n",
    "prev_yr_start_date_string = datetime.strftime(prev_yr_start_date, format_string).replace(' 0', ' ')\n",
    "\n",
    "# Take input end date and roll back one year\n",
    "datetime_end_object = datetime.strptime(my_trip_end_date, format_string).date()\n",
    "prev_yr_end_date = datetime_end_object + relativedelta(years=-1)\n",
    "prev_yr_end_date_string = datetime.strftime(prev_yr_end_date, format_string).replace(' 0', ' ')\n",
    "\n",
    "# For visibility - print out dates for previous year's start and end\n",
    "print(f'=============================================================')\n",
    "print(f'Previous Year Start Date: {prev_yr_start_date_string}\\nPrevious Year End Date: {prev_yr_end_date_string}')\n",
    "\n",
    "# Call function using my trip previous year's data\n",
    "prev_temp = calc_temps(prev_yr_start_date_string,prev_yr_end_date_string)\n",
    "\n",
    "\n",
    "# Add (min, avg, max) results for previous year to dataframe\n",
    "trip_previous_yr_df = pd.DataFrame(prev_temp,columns=['Min','Avg','Max'])\n",
    "trip_previous_yr_df\n"
   ]
  },
  {
   "cell_type": "code",
   "execution_count": 80,
   "metadata": {},
   "outputs": [
    {
     "data": {
      "image/png": "[encoded data removed]",
      "text/plain": [
       "<Figure size 504x504 with 1 Axes>"
      ]
     },
     "metadata": {
      "needs_background": "light"
     },
     "output_type": "display_data"
    }
   ],
   "source": [
    "# Plot the results from your previous query as a bar chart. \n",
    "# Use \"Trip Avg Temp\" as your Title\n",
    "# Use the average temperature for the y value\n",
    "# Use the peak-to-peak (tmax-tmin) value as the y error bar (year)\n",
    "\n",
    "# Build a bar plot with y error\n",
    "trip_previous_yr_df.plot(kind = \"bar\",width= 0.3, y = 'Avg',title = 'Trip Avg Temp', legend=False,\n",
    "                         yerr = trip_previous_yr_df['Max']-trip_previous_yr_df['Min'], figsize=(7,7), \n",
    "                         color= 'magenta', alpha = 0.7 )\n",
    "# Add y label\n",
    "plt.ylabel('Temp (F)')\n",
    "\n",
    "# Hide x ticks\n",
    "plt.tick_params(\n",
    "    axis='x',          # changes apply to the x-axis\n",
    "    which='both',      # both major and minor ticks are affected\n",
    "    bottom=False,      # ticks along the bottom edge are off\n",
    "    top=False,         # ticks along the top edge are off\n",
    "    labelbottom=False) \n",
    "\n",
    "# Save the figure and show\n",
    "plt.tight_layout()\n",
    "plt.savefig(\"../sqlalchemy-challenge/Trip Avg Temp.png\")\n",
    "plt.show()\n",
    "\n"
   ]
  },
  {
   "cell_type": "code",
   "execution_count": 81,
   "metadata": {},
   "outputs": [
    {
     "data": {
      "text/html": [
       "<div>\n",
       "<style scoped>\n",
       "    .dataframe tbody tr th:only-of-type {\n",
       "        vertical-align: middle;\n",
       "    }\n",
       "\n",
       "    .dataframe tbody tr th {\n",
       "        vertical-align: top;\n",
       "    }\n",
       "\n",
       "    .dataframe thead th {\n",
       "        text-align: right;\n",
       "    }\n",
       "</style>\n",
       "<table border=\"1\" class=\"dataframe\">\n",
       "  <thead>\n",
       "    <tr style=\"text-align: right;\">\n",
       "      <th></th>\n",
       "      <th>Precipitation</th>\n",
       "      <th>Station</th>\n",
       "      <th>Station Name</th>\n",
       "      <th>Latitude</th>\n",
       "      <th>Longitude</th>\n",
       "      <th>Elevation</th>\n",
       "    </tr>\n",
       "  </thead>\n",
       "  <tbody>\n",
       "    <tr>\n",
       "      <td>0</td>\n",
       "      <td>1.80</td>\n",
       "      <td>USC00519523</td>\n",
       "      <td>WAIMANALO EXPERIMENTAL FARM, HI US</td>\n",
       "      <td>21.33556</td>\n",
       "      <td>-157.71139</td>\n",
       "      <td>19.5</td>\n",
       "    </tr>\n",
       "    <tr>\n",
       "      <td>1</td>\n",
       "      <td>1.53</td>\n",
       "      <td>USC00513117</td>\n",
       "      <td>KANEOHE 838.1, HI US</td>\n",
       "      <td>21.42340</td>\n",
       "      <td>-157.80150</td>\n",
       "      <td>14.6</td>\n",
       "    </tr>\n",
       "    <tr>\n",
       "      <td>2</td>\n",
       "      <td>1.35</td>\n",
       "      <td>USC00516128</td>\n",
       "      <td>MANOA LYON ARBO 785.2, HI US</td>\n",
       "      <td>21.33310</td>\n",
       "      <td>-157.80250</td>\n",
       "      <td>152.4</td>\n",
       "    </tr>\n",
       "    <tr>\n",
       "      <td>3</td>\n",
       "      <td>1.04</td>\n",
       "      <td>USC00516128</td>\n",
       "      <td>MANOA LYON ARBO 785.2, HI US</td>\n",
       "      <td>21.33310</td>\n",
       "      <td>-157.80250</td>\n",
       "      <td>152.4</td>\n",
       "    </tr>\n",
       "    <tr>\n",
       "      <td>4</td>\n",
       "      <td>1.02</td>\n",
       "      <td>USC00519281</td>\n",
       "      <td>WAIHEE 837.5, HI US</td>\n",
       "      <td>21.45167</td>\n",
       "      <td>-157.84889</td>\n",
       "      <td>32.9</td>\n",
       "    </tr>\n",
       "    <tr>\n",
       "      <td>...</td>\n",
       "      <td>...</td>\n",
       "      <td>...</td>\n",
       "      <td>...</td>\n",
       "      <td>...</td>\n",
       "      <td>...</td>\n",
       "      <td>...</td>\n",
       "    </tr>\n",
       "    <tr>\n",
       "      <td>89</td>\n",
       "      <td>0.00</td>\n",
       "      <td>USC00517948</td>\n",
       "      <td>PEARL CITY, HI US</td>\n",
       "      <td>21.39340</td>\n",
       "      <td>-157.97510</td>\n",
       "      <td>11.9</td>\n",
       "    </tr>\n",
       "    <tr>\n",
       "      <td>90</td>\n",
       "      <td>0.00</td>\n",
       "      <td>USC00517948</td>\n",
       "      <td>PEARL CITY, HI US</td>\n",
       "      <td>21.39340</td>\n",
       "      <td>-157.97510</td>\n",
       "      <td>11.9</td>\n",
       "    </tr>\n",
       "    <tr>\n",
       "      <td>91</td>\n",
       "      <td>0.00</td>\n",
       "      <td>USC00517948</td>\n",
       "      <td>PEARL CITY, HI US</td>\n",
       "      <td>21.39340</td>\n",
       "      <td>-157.97510</td>\n",
       "      <td>11.9</td>\n",
       "    </tr>\n",
       "    <tr>\n",
       "      <td>92</td>\n",
       "      <td>0.00</td>\n",
       "      <td>USC00516128</td>\n",
       "      <td>MANOA LYON ARBO 785.2, HI US</td>\n",
       "      <td>21.33310</td>\n",
       "      <td>-157.80250</td>\n",
       "      <td>152.4</td>\n",
       "    </tr>\n",
       "    <tr>\n",
       "      <td>93</td>\n",
       "      <td>0.00</td>\n",
       "      <td>USC00516128</td>\n",
       "      <td>MANOA LYON ARBO 785.2, HI US</td>\n",
       "      <td>21.33310</td>\n",
       "      <td>-157.80250</td>\n",
       "      <td>152.4</td>\n",
       "    </tr>\n",
       "  </tbody>\n",
       "</table>\n",
       "<p>94 rows × 6 columns</p>\n",
       "</div>"
      ],
      "text/plain": [
       "    Precipitation      Station                        Station Name  Latitude  \\\n",
       "0            1.80  USC00519523  WAIMANALO EXPERIMENTAL FARM, HI US  21.33556   \n",
       "1            1.53  USC00513117                KANEOHE 838.1, HI US  21.42340   \n",
       "2            1.35  USC00516128        MANOA LYON ARBO 785.2, HI US  21.33310   \n",
       "3            1.04  USC00516128        MANOA LYON ARBO 785.2, HI US  21.33310   \n",
       "4            1.02  USC00519281                 WAIHEE 837.5, HI US  21.45167   \n",
       "..            ...          ...                                 ...       ...   \n",
       "89           0.00  USC00517948                   PEARL CITY, HI US  21.39340   \n",
       "90           0.00  USC00517948                   PEARL CITY, HI US  21.39340   \n",
       "91           0.00  USC00517948                   PEARL CITY, HI US  21.39340   \n",
       "92           0.00  USC00516128        MANOA LYON ARBO 785.2, HI US  21.33310   \n",
       "93           0.00  USC00516128        MANOA LYON ARBO 785.2, HI US  21.33310   \n",
       "\n",
       "    Longitude  Elevation  \n",
       "0  -157.71139       19.5  \n",
       "1  -157.80150       14.6  \n",
       "2  -157.80250      152.4  \n",
       "3  -157.80250      152.4  \n",
       "4  -157.84889       32.9  \n",
       "..        ...        ...  \n",
       "89 -157.97510       11.9  \n",
       "90 -157.97510       11.9  \n",
       "91 -157.97510       11.9  \n",
       "92 -157.80250      152.4  \n",
       "93 -157.80250      152.4  \n",
       "\n",
       "[94 rows x 6 columns]"
      ]
     },
     "execution_count": 81,
     "metadata": {},
     "output_type": "execute_result"
    }
   ],
   "source": [
    "# Sort this in descending order by precipitation amount and list the station, name, latitude, longitude, and elevation\n",
    "\n",
    "# Join tables to get columns prcp, station, name, latitude, longitude, and elvation for previous year\n",
    "prev_rainfall =session.query(Measurement.prcp,Measurement.station, Station.name, Station.latitude, Station.longitude, Station.elevation).\\\n",
    "                join(Station, Measurement.station == Station.station).\\\n",
    "                filter(Measurement.date >= prev_yr_start_date_string).\\\n",
    "                filter(Measurement.date <= prev_yr_end_date_string).\\\n",
    "                order_by(Measurement.prcp.desc()).all()\n",
    "\n",
    "# Add to dataframe and rename columns\n",
    "prev_rainfall_df = pd.DataFrame(prev_rainfall,columns=['Precipitation','Station','Station Name','Latitude','Longitude','Elevation'])\n",
    "\n",
    "# Data Cleansing: Replace NaN with 0.00 value on Precipitation column\n",
    "prev_rainfall_df['Precipitation'] = prev_rainfall_df['Precipitation'].replace(np.nan, 0)\n",
    "\n",
    "prev_rainfall_df"
   ]
  },
  {
   "cell_type": "code",
   "execution_count": 82,
   "metadata": {
    "scrolled": true
   },
   "outputs": [
    {
     "data": {
      "text/plain": [
       "Station\n",
       "USC00513117    3.80\n",
       "USC00514830    1.07\n",
       "USC00516128    4.24\n",
       "USC00517948    0.44\n",
       "USC00519281    3.90\n",
       "USC00519397    0.19\n",
       "USC00519523    3.06\n",
       "Name: Precipitation, dtype: float64"
      ]
     },
     "execution_count": 82,
     "metadata": {},
     "output_type": "execute_result"
    }
   ],
   "source": [
    "# Calculate the rainfall per weather station using the previous years matching dates.\n",
    "rainfall_per_station = prev_rainfall_df.groupby(['Station'])['Precipitation'].sum()\n",
    "rainfall_per_station"
   ]
  },
  {
   "cell_type": "code",
   "execution_count": 83,
   "metadata": {},
   "outputs": [
    {
     "data": {
      "text/plain": [
       "[(62.0, 69.15384615384616, 77.0)]"
      ]
     },
     "execution_count": 83,
     "metadata": {},
     "output_type": "execute_result"
    }
   ],
   "source": [
    "# Create a query that will calculate the daily normals \n",
    "# (i.e. the averages for tmin, tmax, and tavg for all historic data matching a specific month and day)\n",
    "\n",
    "def daily_normals(date):\n",
    "    \"\"\"Daily Normals.\n",
    "    \n",
    "    Args:\n",
    "        date (str): A date string in the format '%m-%d'\n",
    "        \n",
    "    Returns:\n",
    "        A list of tuples containing the daily normals, tmin, tavg, and tmax\n",
    "    \n",
    "    \"\"\"\n",
    "    \n",
    "    sel = [func.min(Measurement.tobs), func.avg(Measurement.tobs), func.max(Measurement.tobs)]\n",
    "    return session.query(*sel).filter(func.strftime(\"%m-%d\", Measurement.date) == date).all()\n",
    "    \n",
    "daily_normals(\"01-01\")"
   ]
  },
  {
   "cell_type": "code",
   "execution_count": 84,
   "metadata": {},
   "outputs": [
    {
     "data": {
      "text/plain": [
       "[(65.0, 72.75925925925925, 79.0),\n",
       " (65.0, 73.05084745762711, 79.0),\n",
       " (67.0, 73.41071428571429, 84.0),\n",
       " (65.0, 73.59649122807018, 78.0),\n",
       " (67.0, 73.39655172413794, 79.0),\n",
       " (66.0, 73.14035087719299, 80.0),\n",
       " (64.0, 71.78846153846153, 79.0),\n",
       " (65.0, 72.18867924528301, 80.0),\n",
       " (67.0, 72.9322033898305, 79.0),\n",
       " (64.0, 73.3157894736842, 78.0),\n",
       " (65.0, 73.61111111111111, 79.0),\n",
       " (65.0, 73.13793103448276, 79.0),\n",
       " (67.0, 73.14285714285714, 79.0),\n",
       " (63.0, 73.89285714285714, 80.0),\n",
       " (63.0, 73.69090909090909, 79.0)]"
      ]
     },
     "execution_count": 84,
     "metadata": {},
     "output_type": "execute_result"
    }
   ],
   "source": [
    "# calculate the daily normals for your trip\n",
    "# push each tuple of calculations into a list called `normals`\n",
    "\n",
    "# Set the start and end date of the trip\n",
    "start_trip =prev_yr_start_date_string \n",
    "end_trip =prev_yr_end_date_string \n",
    "\n",
    "# Use the start and end date to create a range of dates\n",
    "trip_date_range = pd.date_range(start_trip, end_trip)\n",
    "trip_date_range_DateFormat = trip_date_range.strftime('%Y-%m-%d') # format to YYY-MM-DD\n",
    "\n",
    "# Strip off the year and save a list of %m-%d strings\n",
    "trip_date_range_str = trip_date_range.strftime('%m-%d') # format to MM-DD\n",
    "trip_date_range_str\n",
    "\n",
    "\n",
    "# Loop through the list of %m-%d strings and calculate the normals for each date\n",
    "normals=[]\n",
    "for i in trip_date_range_str:\n",
    " #   normals.extend(daily_normals(i))  # call function to return daily normals, append that to list\n",
    "     normals.append(daily_normals(i))\n",
    "\n",
    "# To unnest/remove brackets each list stored in normals list of lists\n",
    "flattened_normals = []\n",
    "for sublist in normals:\n",
    "    for val in sublist:\n",
    "        flattened_normals.append(val)\n",
    "    \n",
    "flattened_normals"
   ]
  },
  {
   "cell_type": "code",
   "execution_count": 85,
   "metadata": {},
   "outputs": [
    {
     "data": {
      "text/html": [
       "<div>\n",
       "<style scoped>\n",
       "    .dataframe tbody tr th:only-of-type {\n",
       "        vertical-align: middle;\n",
       "    }\n",
       "\n",
       "    .dataframe tbody tr th {\n",
       "        vertical-align: top;\n",
       "    }\n",
       "\n",
       "    .dataframe thead th {\n",
       "        text-align: right;\n",
       "    }\n",
       "</style>\n",
       "<table border=\"1\" class=\"dataframe\">\n",
       "  <thead>\n",
       "    <tr style=\"text-align: right;\">\n",
       "      <th></th>\n",
       "      <th>tmin</th>\n",
       "      <th>tavg</th>\n",
       "      <th>tmax</th>\n",
       "    </tr>\n",
       "    <tr>\n",
       "      <th>Date</th>\n",
       "      <th></th>\n",
       "      <th></th>\n",
       "      <th></th>\n",
       "    </tr>\n",
       "  </thead>\n",
       "  <tbody>\n",
       "    <tr>\n",
       "      <td>2016-05-01</td>\n",
       "      <td>65.0</td>\n",
       "      <td>72.76</td>\n",
       "      <td>79.0</td>\n",
       "    </tr>\n",
       "    <tr>\n",
       "      <td>2016-05-02</td>\n",
       "      <td>65.0</td>\n",
       "      <td>73.05</td>\n",
       "      <td>79.0</td>\n",
       "    </tr>\n",
       "    <tr>\n",
       "      <td>2016-05-03</td>\n",
       "      <td>67.0</td>\n",
       "      <td>73.41</td>\n",
       "      <td>84.0</td>\n",
       "    </tr>\n",
       "    <tr>\n",
       "      <td>2016-05-04</td>\n",
       "      <td>65.0</td>\n",
       "      <td>73.60</td>\n",
       "      <td>78.0</td>\n",
       "    </tr>\n",
       "    <tr>\n",
       "      <td>2016-05-05</td>\n",
       "      <td>67.0</td>\n",
       "      <td>73.40</td>\n",
       "      <td>79.0</td>\n",
       "    </tr>\n",
       "    <tr>\n",
       "      <td>2016-05-06</td>\n",
       "      <td>66.0</td>\n",
       "      <td>73.14</td>\n",
       "      <td>80.0</td>\n",
       "    </tr>\n",
       "    <tr>\n",
       "      <td>2016-05-07</td>\n",
       "      <td>64.0</td>\n",
       "      <td>71.79</td>\n",
       "      <td>79.0</td>\n",
       "    </tr>\n",
       "    <tr>\n",
       "      <td>2016-05-08</td>\n",
       "      <td>65.0</td>\n",
       "      <td>72.19</td>\n",
       "      <td>80.0</td>\n",
       "    </tr>\n",
       "    <tr>\n",
       "      <td>2016-05-09</td>\n",
       "      <td>67.0</td>\n",
       "      <td>72.93</td>\n",
       "      <td>79.0</td>\n",
       "    </tr>\n",
       "    <tr>\n",
       "      <td>2016-05-10</td>\n",
       "      <td>64.0</td>\n",
       "      <td>73.32</td>\n",
       "      <td>78.0</td>\n",
       "    </tr>\n",
       "    <tr>\n",
       "      <td>2016-05-11</td>\n",
       "      <td>65.0</td>\n",
       "      <td>73.61</td>\n",
       "      <td>79.0</td>\n",
       "    </tr>\n",
       "    <tr>\n",
       "      <td>2016-05-12</td>\n",
       "      <td>65.0</td>\n",
       "      <td>73.14</td>\n",
       "      <td>79.0</td>\n",
       "    </tr>\n",
       "    <tr>\n",
       "      <td>2016-05-13</td>\n",
       "      <td>67.0</td>\n",
       "      <td>73.14</td>\n",
       "      <td>79.0</td>\n",
       "    </tr>\n",
       "    <tr>\n",
       "      <td>2016-05-14</td>\n",
       "      <td>63.0</td>\n",
       "      <td>73.89</td>\n",
       "      <td>80.0</td>\n",
       "    </tr>\n",
       "    <tr>\n",
       "      <td>2016-05-15</td>\n",
       "      <td>63.0</td>\n",
       "      <td>73.69</td>\n",
       "      <td>79.0</td>\n",
       "    </tr>\n",
       "  </tbody>\n",
       "</table>\n",
       "</div>"
      ],
      "text/plain": [
       "            tmin   tavg  tmax\n",
       "Date                         \n",
       "2016-05-01  65.0  72.76  79.0\n",
       "2016-05-02  65.0  73.05  79.0\n",
       "2016-05-03  67.0  73.41  84.0\n",
       "2016-05-04  65.0  73.60  78.0\n",
       "2016-05-05  67.0  73.40  79.0\n",
       "2016-05-06  66.0  73.14  80.0\n",
       "2016-05-07  64.0  71.79  79.0\n",
       "2016-05-08  65.0  72.19  80.0\n",
       "2016-05-09  67.0  72.93  79.0\n",
       "2016-05-10  64.0  73.32  78.0\n",
       "2016-05-11  65.0  73.61  79.0\n",
       "2016-05-12  65.0  73.14  79.0\n",
       "2016-05-13  67.0  73.14  79.0\n",
       "2016-05-14  63.0  73.89  80.0\n",
       "2016-05-15  63.0  73.69  79.0"
      ]
     },
     "execution_count": 85,
     "metadata": {},
     "output_type": "execute_result"
    }
   ],
   "source": [
    "# Load the previous query results into a Pandas DataFrame and add the 'trip_dates' range as the 'date' index\n",
    "\n",
    "trip_df = pd.DataFrame(flattened_normals,columns=['tmin','tavg','tmax']) #create dataframe\n",
    "trip_df['tavg'] = round(trip_df['tavg'],2)     # round Avg column to two decimal points\n",
    "trip_df['Date'] = trip_date_range_DateFormat   # add date column\n",
    "trip_df.set_index('Date', inplace=True)        # set index to date\n",
    "trip_df\n",
    "\n"
   ]
  },
  {
   "cell_type": "code",
   "execution_count": 88,
   "metadata": {},
   "outputs": [
    {
     "data": {
      "image/png": "[encoded data removed]",
      "text/plain": [
       "<Figure size 720x432 with 1 Axes>"
      ]
     },
     "metadata": {
      "needs_background": "light"
     },
     "output_type": "display_data"
    }
   ],
   "source": [
    "# Plot the daily normals as an area plot with 'stacked=False'\n",
    "ax = trip_df.plot.area(stacked=False, alpha = 0.2, figsize= (10,6), rot=45)\n",
    "ax.set_ylabel('Temperature', size = 12)\n",
    "ax.set_title('Daily Normals', size=16)\n",
    "\n",
    "# Save area plot as png\n",
    "plt.savefig(\"../sqlalchemy-challenge/Daily Normals.png\") \n"
   ]
  }
 ],
 "metadata": {
  "kernel_info": {
   "name": "python3"
  },
  "kernelspec": {
   "display_name": "Python 3",
   "language": "python",
   "name": "python3"
  },
  "language_info": {
   "codemirror_mode": {
    "name": "ipython",
    "version": 3
   },
   "file_extension": ".py",
   "mimetype": "text/x-python",
   "name": "python",
   "nbconvert_exporter": "python",
   "pygments_lexer": "ipython3",
   "version": "3.7.4"
  },
  "nteract": {
   "version": "0.12.3"
  },
  "varInspector": {
   "cols": {
    "lenName": 16,
    "lenType": 16,
    "lenVar": 40
   },
   "kernels_config": {
    "python": {
     "delete_cmd_postfix": "",
     "delete_cmd_prefix": "del ",
     "library": "var_list.py",
     "varRefreshCmd": "print(var_dic_list())"
    },
    "r": {
     "delete_cmd_postfix": ") ",
     "delete_cmd_prefix": "rm(",
     "library": "var_list.r",
     "varRefreshCmd": "cat(var_dic_list()) "
    }
   },
   "types_to_exclude": [
    "module",
    "function",
    "builtin_function_or_method",
    "instance",
    "_Feature"
   ],
   "window_display": false
  }
 },
 "nbformat": 4,
 "nbformat_minor": 2
}
